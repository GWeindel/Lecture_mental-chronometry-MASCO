{
 "cells": [
  {
   "cell_type": "code",
   "execution_count": 15,
   "metadata": {},
   "outputs": [],
   "source": [
    "require(\"rtdists\")#Package to generate RT from a range of models, including the (simple) diffusion model presented in class"
   ]
  },
  {
   "cell_type": "markdown",
   "metadata": {},
   "source": [
    "### Simulating RT data from a choice RT task"
   ]
  },
  {
   "cell_type": "markdown",
   "metadata": {},
   "source": [
    "Reminder of the diffusion model (simple version):"
   ]
  },
  {
   "cell_type": "markdown",
   "metadata": {},
   "source": [
    "<img src='plots/DDM_par.png'>"
   ]
  },
  {
   "cell_type": "markdown",
   "metadata": {},
   "source": [
    "accumulation speed ($v$) $\\rightarrow$ processing speed of the stimulus\n",
    "\n",
    "decision boundary ($a$) $\\rightarrow$ response precaution\n",
    "\n",
    "Non-decision time ($T_{er}$ ou $t_0$) $\\rightarrow$ residual time (e.g. stimulus encoding and response execution)\n",
    "\\end{itemize}"
   ]
  },
  {
   "cell_type": "markdown",
   "metadata": {},
   "source": [
    "# Simulating one participant"
   ]
  },
  {
   "cell_type": "code",
   "execution_count": 27,
   "metadata": {},
   "outputs": [],
   "source": [
    "syndata = rdiffusion(10, a=1, v=.2, t0=.3)# Simulating 10 trials with a boundary parameter of 1, drift of 2 and t0 of 300 ms\n"
   ]
  },
  {
   "cell_type": "markdown",
   "metadata": {},
   "source": [
    "We created a dataframe with two columns, rt for reaction time and response for the choice made by the participant"
   ]
  },
  {
   "cell_type": "code",
   "execution_count": 17,
   "metadata": {},
   "outputs": [
    {
     "data": {
      "text/html": [
       "<table>\n",
       "<caption>A data.frame: 6 × 2</caption>\n",
       "<thead>\n",
       "\t<tr><th></th><th scope=col>rt</th><th scope=col>response</th></tr>\n",
       "\t<tr><th></th><th scope=col>&lt;dbl&gt;</th><th scope=col>&lt;fct&gt;</th></tr>\n",
       "</thead>\n",
       "<tbody>\n",
       "\t<tr><th scope=row>1</th><td>0.5362445</td><td>upper</td></tr>\n",
       "\t<tr><th scope=row>2</th><td>0.3885129</td><td>lower</td></tr>\n",
       "\t<tr><th scope=row>3</th><td>0.5412303</td><td>upper</td></tr>\n",
       "\t<tr><th scope=row>4</th><td>0.8512839</td><td>lower</td></tr>\n",
       "\t<tr><th scope=row>5</th><td>0.6937874</td><td>upper</td></tr>\n",
       "\t<tr><th scope=row>6</th><td>0.6530603</td><td>lower</td></tr>\n",
       "</tbody>\n",
       "</table>\n"
      ],
      "text/latex": [
       "A data.frame: 6 × 2\n",
       "\\begin{tabular}{r|ll}\n",
       "  & rt & response\\\\\n",
       "  & <dbl> & <fct>\\\\\n",
       "\\hline\n",
       "\t1 & 0.5362445 & upper\\\\\n",
       "\t2 & 0.3885129 & lower\\\\\n",
       "\t3 & 0.5412303 & upper\\\\\n",
       "\t4 & 0.8512839 & lower\\\\\n",
       "\t5 & 0.6937874 & upper\\\\\n",
       "\t6 & 0.6530603 & lower\\\\\n",
       "\\end{tabular}\n"
      ],
      "text/markdown": [
       "\n",
       "A data.frame: 6 × 2\n",
       "\n",
       "| <!--/--> | rt &lt;dbl&gt; | response &lt;fct&gt; |\n",
       "|---|---|---|\n",
       "| 1 | 0.5362445 | upper |\n",
       "| 2 | 0.3885129 | lower |\n",
       "| 3 | 0.5412303 | upper |\n",
       "| 4 | 0.8512839 | lower |\n",
       "| 5 | 0.6937874 | upper |\n",
       "| 6 | 0.6530603 | lower |\n",
       "\n"
      ],
      "text/plain": [
       "  rt        response\n",
       "1 0.5362445 upper   \n",
       "2 0.3885129 lower   \n",
       "3 0.5412303 upper   \n",
       "4 0.8512839 lower   \n",
       "5 0.6937874 upper   \n",
       "6 0.6530603 lower   "
      ]
     },
     "metadata": {},
     "output_type": "display_data"
    }
   ],
   "source": [
    "head(syndata)"
   ]
  },
  {
   "cell_type": "markdown",
   "metadata": {},
   "source": [
    "The response column indicates at which boundary the decision variable stopped. In this example as $v$ is positive, the decision variable is biased towards the upper ('correct') bound\n",
    "\n",
    "_NB : For pedagogical purposes, we will only explore the correct responses even if we should also analyse the incorrect ones (note also that the simplified version of the diffusion model I show, predicts equal rt for errors and correct, which is rarely observed)_\n"
   ]
  },
  {
   "cell_type": "code",
   "execution_count": 28,
   "metadata": {},
   "outputs": [],
   "source": [
    "syndata = syndata[syndata$response == \"upper\",]"
   ]
  },
  {
   "cell_type": "markdown",
   "metadata": {},
   "source": [
    "### Sampling from a known distribution"
   ]
  },
  {
   "cell_type": "markdown",
   "metadata": {},
   "source": [
    "This is the density function we sampled from :"
   ]
  },
  {
   "cell_type": "code",
   "execution_count": 19,
   "metadata": {},
   "outputs": [
    {
     "data": {
      "image/png": "[encoded data removed]",
      "text/plain": [
       "Plot with title “”"
      ]
     },
     "metadata": {
      "image/png": {
       "height": 420,
       "width": 420
      },
      "text/plain": {
       "height": 420,
       "width": 420
      }
     },
     "output_type": "display_data"
    }
   ],
   "source": [
    "curve(ddiffusion(x, a=1, v=.1, t0=0.3, response = \"upper\"),\n",
    "      xlim=c(0,1.5), main=\"\", \n",
    "      ylab=\"density\", xlab=\"rt\")"
   ]
  },
  {
   "cell_type": "markdown",
   "metadata": {},
   "source": [
    "Based on the equation presented last week (Wagenmakers, van der Maas and Grasman, 2007), we can compute the expected mean RT"
   ]
  },
  {
   "cell_type": "code",
   "execution_count": 29,
   "metadata": {},
   "outputs": [
    {
     "name": "stdout",
     "output_type": "stream",
     "text": [
      "[1] 0.54917\n"
     ]
    }
   ],
   "source": [
    "MRT_hat <- function(a, v, t0){\n",
    "    y = -v*a #s = 1\n",
    "    MRT = (a/(2*v))*((1-exp(y))/(1+exp(y)))+t0\n",
    "    return(MRT)\n",
    "}\n",
    "print(MRT_hat(a=1, v=.2, t0=.3))"
   ]
  },
  {
   "cell_type": "markdown",
   "metadata": {},
   "source": [
    "And compare it to the observed mean rt"
   ]
  },
  {
   "cell_type": "code",
   "execution_count": 30,
   "metadata": {},
   "outputs": [
    {
     "data": {
      "text/html": [
       "0.773280362783668"
      ],
      "text/latex": [
       "0.773280362783668"
      ],
      "text/markdown": [
       "0.773280362783668"
      ],
      "text/plain": [
       "[1] 0.7732804"
      ]
     },
     "metadata": {},
     "output_type": "display_data"
    }
   ],
   "source": [
    "mean(syndata$rt)"
   ]
  },
  {
   "cell_type": "code",
   "execution_count": 31,
   "metadata": {},
   "outputs": [
    {
     "name": "stdout",
     "output_type": "stream",
     "text": [
      "[1] -0.22\n"
     ]
    }
   ],
   "source": [
    "print(MRT_hat(a=1, v=.2, t0=.3) - mean(syndata$rt),2)\n"
   ]
  },
  {
   "cell_type": "markdown",
   "metadata": {},
   "source": [
    "As expected, if we increase our sample size the observed mean RT ($\\overline{RT}$) gets closer to the predicted mean RT ($\\hat{RT}$)"
   ]
  },
  {
   "cell_type": "code",
   "execution_count": 32,
   "metadata": {},
   "outputs": [],
   "source": [
    "syndata_large = rdiffusion(10000, a=1, v=.2, t0=.3)# Simulating 10000 trials\n",
    "\n",
    "syndata_large = syndata_large[syndata_large$response == \"upper\",]"
   ]
  },
  {
   "cell_type": "code",
   "execution_count": 33,
   "metadata": {},
   "outputs": [
    {
     "name": "stdout",
     "output_type": "stream",
     "text": [
      "[1] 0.0019\n"
     ]
    }
   ],
   "source": [
    "print(MRT_hat(a=1, v=.2, t0=.3) - mean(syndata_large$rt),2)"
   ]
  },
  {
   "cell_type": "markdown",
   "metadata": {},
   "source": [
    "### Plotting distribution of a single participant"
   ]
  },
  {
   "cell_type": "markdown",
   "metadata": {},
   "source": [
    "We can also plot the observed distribution using a histogram and compare it to the density function above"
   ]
  },
  {
   "cell_type": "code",
   "execution_count": 38,
   "metadata": {},
   "outputs": [
    {
     "data": {
      "image/png": "[encoded data removed]",
      "text/plain": [
       "Plot with title “Histogram of syndata_large$rt”"
      ]
     },
     "metadata": {
      "image/png": {
       "height": 420,
       "width": 420
      },
      "text/plain": {
       "height": 420,
       "width": 420
      }
     },
     "output_type": "display_data"
    }
   ],
   "source": [
    "hist(syndata_large$rt,xlim=c(0,2.5),breaks=20, xlab=\"rt\")\n",
    "#Note that the \"break\" argument discretizes the distribution you can play with it and observe the changes on the visualisation"
   ]
  },
  {
   "cell_type": "markdown",
   "metadata": {},
   "source": [
    "If we play around with the parameters we can change the generated distribution"
   ]
  },
  {
   "cell_type": "code",
   "execution_count": 39,
   "metadata": {},
   "outputs": [
    {
     "data": {
      "image/png": "[encoded data removed]",
      "text/plain": [
       "Plot with title “Histogram of cautious[cautious$response == \"upper\", \"rt\"]”"
      ]
     },
     "metadata": {
      "image/png": {
       "height": 420,
       "width": 420
      },
      "text/plain": {
       "height": 420,
       "width": 420
      }
     },
     "output_type": "display_data"
    }
   ],
   "source": [
    "cautious = rdiffusion(10000, a=1.5, v=.2, t0=0.3)#added 0.5 to the boundary parameter\n",
    "hist(cautious[cautious$response == \"upper\",\"rt\"],xlim=c(0,2.5),breaks=20)"
   ]
  },
  {
   "cell_type": "markdown",
   "metadata": {},
   "source": [
    "Here we show that increasing boundaries slows rt and adds even more mass in the right tail than previously"
   ]
  },
  {
   "cell_type": "code",
   "execution_count": 41,
   "metadata": {},
   "outputs": [
    {
     "data": {
      "image/png": "[encoded data removed]",
      "text/plain": [
       "Plot with title “Histogram of fast[fast$response == \"upper\", \"rt\"]”"
      ]
     },
     "metadata": {
      "image/png": {
       "height": 420,
       "width": 420
      },
      "text/plain": {
       "height": 420,
       "width": 420
      }
     },
     "output_type": "display_data"
    }
   ],
   "source": [
    "fast = rdiffusion(10000, a=1, v=2, t0=)#\n",
    "hist(fast[fast$response == \"upper\",\"rt\"],xlim=c(0,2.5),breaks=20)"
   ]
  },
  {
   "cell_type": "code",
   "execution_count": 42,
   "metadata": {},
   "outputs": [
    {
     "data": {
      "image/png": "[encoded data removed]",
      "text/plain": [
       "Plot with title “Histogram of fast[fast$response == \"upper\", \"rt\"]”"
      ]
     },
     "metadata": {
      "image/png": {
       "height": 420,
       "width": 420
      },
      "text/plain": {
       "height": 420,
       "width": 420
      }
     },
     "output_type": "display_data"
    }
   ],
   "source": [
    "fast = rdiffusion(10000, a=1, v=2, t0=1)#\n",
    "hist(fast[fast$response == \"upper\",\"rt\"],xlim=c(0,2.5),breaks=20)"
   ]
  },
  {
   "cell_type": "markdown",
   "metadata": {},
   "source": [
    "Contrary to the boundary parameter, increasing the drift rate parameter has little effect on the distribution (slightly faster RTs), but it does highly increase the number of correct responses :"
   ]
  },
  {
   "cell_type": "code",
   "execution_count": 14,
   "metadata": {},
   "outputs": [
    {
     "name": "stdout",
     "output_type": "stream",
     "text": [
      "[1] 10000\n",
      "[1] 5478\n"
     ]
    }
   ],
   "source": [
    "print(length(fast$response))#only correct responses so I can get the information by looking at the length of the RT vector\n",
    "print(length(syndata_large$response))"
   ]
  },
  {
   "cell_type": "markdown",
   "metadata": {},
   "source": [
    "# Exercice"
   ]
  },
  {
   "cell_type": "markdown",
   "metadata": {},
   "source": [
    "- Create a participant that execute responses slower than the one simulated here and plot the histograms to compare"
   ]
  },
  {
   "cell_type": "code",
   "execution_count": null,
   "metadata": {},
   "outputs": [],
   "source": []
  }
 ],
 "metadata": {
  "kernelspec": {
   "display_name": "R",
   "language": "R",
   "name": "ir"
  },
  "language_info": {
   "codemirror_mode": "r",
   "file_extension": ".r",
   "mimetype": "text/x-r-source",
   "name": "R",
   "pygments_lexer": "r",
   "version": "3.5.1"
  }
 },
 "nbformat": 4,
 "nbformat_minor": 4
}
